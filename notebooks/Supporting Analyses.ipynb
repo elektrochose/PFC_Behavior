{
 "cells": [
  {
   "cell_type": "markdown",
   "metadata": {},
   "source": [
    "# Supporting Analyses\n",
    "A quick explanation of some straightforward supplemental analyses that provide useful statistics for explaining some of the smaller details of our data. "
   ]
  },
  {
   "cell_type": "code",
   "execution_count": 2,
   "metadata": {
    "collapsed": true
   },
   "outputs": [],
   "source": [
    "import os\n",
    "import pickle\n",
    "import numpy as np\n",
    "import pandas as pd\n",
    "from matplotlib import pyplot as plt\n",
    "from scipy import signal as sig\n",
    "idx = pd.IndexSlice\n",
    "\n",
    "ROOT = os.environ['HOME'] + '/python/'"
   ]
  },
  {
   "cell_type": "markdown",
   "metadata": {},
   "source": [
    "## Switch Trial\n",
    "This metric will calculate the number of trials after a reversal happens it takes for the probability of choosing the newly rewarded goal crosses the 0.5 line. That is, how many trials before it is likelier for an animal to switch responding"
   ]
  },
  {
   "cell_type": "code",
   "execution_count": 1,
   "metadata": {
    "collapsed": true
   },
   "outputs": [],
   "source": [
    "def calculate_switch_trials(DSR, window_size = 7):\n",
    "    ST = []\n",
    "    for rat_label, rat in DSR.groupby('rat'):\n",
    "        for treatment_label, treatment in rat.groupby('Infusion_String'):\n",
    "            learningCurve = []\n",
    "            noTrials = len(treatment)\n",
    "            for trial in range(noTrials):\n",
    "                b_index = int(max(0, trial - np.floor(window_size/2)))\n",
    "                t_index = int(min(noTrials, trial + np.ceil(np.float(window_size)/2)))\n",
    "\n",
    "                mov_avg = np.float(np.sum(\n",
    "                            treatment['Choice'].iloc[b_index:t_index])) / window_size\n",
    "                learningCurve.append(mov_avg)\n",
    "            smooth_signal = sig.savgol_filter(learningCurve, window_size, 2)\n",
    "            treatment['smooth'] = smooth_signal\n",
    "            Rev1 = treatment.loc[idx[:,:,2,:],:]\n",
    "            if len(Rev1) > 10:\n",
    "                if Rev1['GA'].iloc[0]:\n",
    "                    switch_trial = 1 + \\\n",
    "                            np.min(np.nonzero((Rev1['smooth'].values > 0.5).ravel())[0])\n",
    "                else:\n",
    "                    switch_trial = 1 + \\\n",
    "                            np.min(np.nonzero((Rev1['smooth'].values < 0.5).ravel())[0])\n",
    "                ST.append(switch_trial)\n",
    "    return ST"
   ]
  },
  {
   "cell_type": "markdown",
   "metadata": {},
   "source": [
    "## Timing Curve\n",
    "Calculates the average time it takes to complete a trial per block for each dataset. This analysis came as we surprisingly found that the time it takes to do the first block is considerably longer than subsequent blocks. It seems animals \"warm up\" too."
   ]
  },
  {
   "cell_type": "code",
   "execution_count": 4,
   "metadata": {},
   "outputs": [
    {
     "data": {
      "image/png": "[encoded data removed]",
      "text/plain": [
       "<matplotlib.figure.Figure at 0x106a090d0>"
      ]
     },
     "metadata": {},
     "output_type": "display_data"
    }
   ],
   "source": [
    "def plot_timing_curve(path = ROOT + 'behavioral_performance/data/dataset_dataframes/Saline_PSR.p'):\n",
    "    DSR = pickle.load(open(path,'rb'))\n",
    "    blocks = {}\n",
    "    for rat_label, rat in DSR.groupby('rat'):\n",
    "        for treatment_label, treatment in rat.groupby('Infusion_String'):\n",
    "            for block_label, block in treatment.groupby('block'):\n",
    "                if block_label not in blocks.keys():\n",
    "                    blocks[block_label] = []\n",
    "                blocks[block_label].append(np.nanmean(np.sum( \\\n",
    "                                block.loc[:,['t3','t4']], axis = 1)))\n",
    "\n",
    "    time_means = [np.nanmean(w) for key, w in blocks.iteritems()]\n",
    "    time_sem = [np.std(w) / np.sqrt(len(w)) for key, w in blocks.iteritems()]\n",
    "\n",
    "\n",
    "    plt.errorbar(blocks.keys(), time_means, yerr = time_sem)\n",
    "    plt.xticks(blocks.keys())\n",
    "    plt.title('Timing Per Block - PSR')\n",
    "    plt.ylabel('Time to complete trial (seconds)')\n",
    "    plt.xlabel('Block')\n",
    "    plt.savefig(ROOT + 'Results/TimingBlocksPSR.jpg', dpi=400)\n",
    "    plt.show()\n"
   ]
  },
  {
   "cell_type": "markdown",
   "metadata": {},
   "source": [
    "## Win-Stay and Lose-Shift Analysis\n",
    "This is a quick calculation of the probaility of an animal of win-staying (repeating a choice if it was rewarded) vs lose-shifting (switching responding after a non-reward choice). "
   ]
  },
  {
   "cell_type": "code",
   "execution_count": 8,
   "metadata": {},
   "outputs": [],
   "source": [
    "def WS_LS(path = ROOT + 'behavioral_performance/data/dataset_dataframes/Saline_PSR.p' ):\n",
    "    DSR = pickle.load(open(path, 'rb'))\n",
    "    WS = []\n",
    "    LS = []\n",
    "    for rat_label, rat in DSR.groupby('rat'):\n",
    "        for treatment_label, treatment in rat.groupby('Infusion_String'):\n",
    "            wstay, wshift, lstay, lshift = 0,0,0,0\n",
    "            for trial in range(1, len(treatment)):\n",
    "                if treatment['Choice'].iloc[trial] \\\n",
    "                == treatment['Choice'].iloc[trial - 1]:\n",
    "                    stay = 1\n",
    "                else:\n",
    "                    stay = 0\n",
    "                if treatment['AR'].iloc[trial - 1] == 1:\n",
    "                    win = 1\n",
    "                else:\n",
    "                    win = 0\n",
    "\n",
    "                if stay == 1 and win == 1:\n",
    "                    wstay += 1\n",
    "                elif stay == 1 and win == 0:\n",
    "                    lstay += 1\n",
    "                elif stay == 0 and win == 1:\n",
    "                    wshift += 1\n",
    "                elif stay == 0 and win == 0:\n",
    "                    lshift += 1\n",
    "            WS.append(np.float(wstay) / (wstay + wshift))\n",
    "            LS.append(np.float(lshift) / (lstay + lshift))\n",
    "    return WS, LS\n"
   ]
  },
  {
   "cell_type": "code",
   "execution_count": null,
   "metadata": {
    "collapsed": true
   },
   "outputs": [],
   "source": []
  }
 ],
 "metadata": {
  "kernelspec": {
   "display_name": "Python 2",
   "language": "python",
   "name": "python2"
  },
  "language_info": {
   "codemirror_mode": {
    "name": "ipython",
    "version": 2
   },
   "file_extension": ".py",
   "mimetype": "text/x-python",
   "name": "python",
   "nbconvert_exporter": "python",
   "pygments_lexer": "ipython2",
   "version": "2.7.3"
  }
 },
 "nbformat": 4,
 "nbformat_minor": 2
}
